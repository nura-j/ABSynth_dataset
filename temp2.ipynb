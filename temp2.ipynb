{
 "cells": [
  {
   "metadata": {},
   "cell_type": "markdown",
   "source": [
    "from absynth.corpus import SyntheticCorpusGenerator\n",
    "\n",
    "# Create generator with default settings\n",
    "generator = SyntheticCorpusGenerator()\n",
    "\n",
    "# Generate a corpus with 10K sentences with default distributions\n",
    "corpus = generator(10000)\n",
    "\n",
    "# Checking distributions\n",
    "print(corpus.complexity_distribution)  # {'simple': 0.55, 'medium': 0.35, 'complex': 0.1}\n",
    "print(corpus.semantic_frame_distribution)  # {'basic_transitive': 0.25, 'basic_intransitive': 0.2, ... }\n",
    "\n",
    "# Save corpus\n",
    "corpus.save(\"corpus_full.json\", indent=2)\n",
    "\n",
    "# Export in different formats\n",
    "corpus.export(\"corpus_semantic.json\", format=\"semantic_annotations\", indent=2) \n",
    "corpus.export(\"corpus_sentences.json\", format=\"sentences_only\", indent=2)\n",
    "\n",
    "# Evaluate quality\n",
    "evaluation = generator.evaluate_corpus(corpus, calculate_suitability=True)\n",
    "print(f\"Suitability Score: {evaluation['suitability']['suitability_score']:.2f}\")\n",
    "\n",
    "from absynth.visualization import Visualizer\n",
    "vis = Visualizer(log_dir='./plots')\n",
    "vis.visualize(corpus)\n"
   ],
   "id": "8bf12b73832ad163"
  },
  {
   "metadata": {},
   "cell_type": "code",
   "outputs": [],
   "execution_count": null,
   "source": "",
   "id": "9dc38341adc599dc"
  }
 ],
 "metadata": {
  "kernelspec": {
   "display_name": "Python 3",
   "language": "python",
   "name": "python3"
  },
  "language_info": {
   "codemirror_mode": {
    "name": "ipython",
    "version": 2
   },
   "file_extension": ".py",
   "mimetype": "text/x-python",
   "name": "python",
   "nbconvert_exporter": "python",
   "pygments_lexer": "ipython2",
   "version": "2.7.6"
  }
 },
 "nbformat": 4,
 "nbformat_minor": 5
}
